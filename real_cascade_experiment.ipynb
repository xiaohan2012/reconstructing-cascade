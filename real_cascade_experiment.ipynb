{
 "cells": [
  {
   "cell_type": "code",
   "execution_count": 68,
   "metadata": {},
   "outputs": [],
   "source": [
    "import numpy as np\n",
    "import pandas as pd\n",
    "import pickle as pkl\n",
    "\n",
    "from tqdm import tqdm\n",
    "from glob import glob\n",
    "\n",
    "from graph_tool import load_graph\n",
    "from paper_experiment import get_tree\n",
    "from cascade import observe_cascade\n",
    "from gt_utils import extract_nodes, extract_edges\n",
    "from evaluate import edge_order_accuracy\n"
   ]
  },
  {
   "cell_type": "code",
   "execution_count": 26,
   "metadata": {},
   "outputs": [],
   "source": [
    "g = load_graph('data/digg/cascade_graph.gt')"
   ]
  },
  {
   "cell_type": "code",
   "execution_count": 27,
   "metadata": {},
   "outputs": [],
   "source": [
    "infection_times = pkl.load(open('data/digg/cascade.pkl', 'rb'))"
   ]
  },
  {
   "cell_type": "code",
   "execution_count": 65,
   "metadata": {},
   "outputs": [],
   "source": [
    "def run_k_runs(g, q, infection_times, method, \n",
    "               k, result_dir, \n",
    "               verbose=False):\n",
    "    for i in range(k):\n",
    "        obs = observe_cascade(infection_times, source=None, q=q)\n",
    "        tree = get_tree(g, infection_times, source=None, obs_nodes=obs, method=method, verbose=verbose)\n",
    "\n",
    "        pred_edges = extract_edges(tree)\n",
    "        pkl.dump(pred_edges,\n",
    "                 open(result_dir + '/{}.pkl'.format(i), 'wb'))    "
   ]
  },
  {
   "cell_type": "code",
   "execution_count": 66,
   "metadata": {},
   "outputs": [],
   "source": [
    "def evaluate(pred_edges, infection_times):\n",
    "    pred_nodes = set([i for e in pred_edges for i in e ])\n",
    "    true_nodes = set(np.nonzero(infection_times>=0)[0])\n",
    "\n",
    "    prec = len(pred_nodes.intersection(true_nodes)) / len(pred_nodes)\n",
    "    rec = len(pred_nodes.intersection(true_nodes)) / len(true_nodes)\n",
    "\n",
    "    order_acc = edge_order_accuracy(extract_edges(tree), infection_times)\n",
    "    return prec, rec, order_acc"
   ]
  },
  {
   "cell_type": "code",
   "execution_count": 67,
   "metadata": {},
   "outputs": [],
   "source": [
    "def evaluate_from_result_dir(result_dir, qs, infection_times):\n",
    "    for q in tqdm(qs):\n",
    "        rows = []\n",
    "        for p in glob(result_dir + \"/{}/*.pkl\".format(q)):\n",
    "            # print(p)\n",
    "            # TODO: add root\n",
    "            pred_edges = pkl.load(open(p, 'rb'))\n",
    "\n",
    "            scores = evaluate(pred_edges, infection_times)\n",
    "            rows.append(scores)\n",
    "        path = result_dir + \"/{}.pkl\".format(q)\n",
    "        if rows:\n",
    "            df = pd.DataFrame(rows, columns=['n.prec', 'n.rec',\n",
    "                                             'order accuracy'])\n",
    "            yield (path, df)\n",
    "        else:\n",
    "            if os.path.exists(path):\n",
    "                os.remove(path)\n",
    "            yield None"
   ]
  },
  {
   "cell_type": "code",
   "execution_count": 64,
   "metadata": {},
   "outputs": [
    {
     "name": "stdout",
     "output_type": "stream",
     "text": [
      "False\n"
     ]
    },
    {
     "ename": "KeyboardInterrupt",
     "evalue": "",
     "output_type": "error",
     "traceback": [
      "\u001b[0;31m---------------------------------------------------------------------------\u001b[0m",
      "\u001b[0;31mKeyboardInterrupt\u001b[0m                         Traceback (most recent call last)",
      "\u001b[0;32m<ipython-input-64-462a41f5c596>\u001b[0m in \u001b[0;36m<module>\u001b[0;34m()\u001b[0m\n\u001b[1;32m      3\u001b[0m \u001b[0mmethod\u001b[0m \u001b[0;34m=\u001b[0m \u001b[0;34m'closure'\u001b[0m\u001b[0;34m\u001b[0m\u001b[0m\n\u001b[1;32m      4\u001b[0m \u001b[0mresult_dir\u001b[0m \u001b[0;34m=\u001b[0m \u001b[0;34m'outputs/real_cascade'\u001b[0m\u001b[0;34m\u001b[0m\u001b[0m\n\u001b[0;32m----> 5\u001b[0;31m \u001b[0mrun_k_runs\u001b[0m\u001b[0;34m(\u001b[0m\u001b[0mg\u001b[0m\u001b[0;34m,\u001b[0m \u001b[0mq\u001b[0m\u001b[0;34m,\u001b[0m \u001b[0minfection_times\u001b[0m\u001b[0;34m,\u001b[0m \u001b[0mmethod\u001b[0m\u001b[0;34m,\u001b[0m \u001b[0mk\u001b[0m\u001b[0;34m,\u001b[0m \u001b[0mresult_dir\u001b[0m\u001b[0;34m,\u001b[0m \u001b[0mverbose\u001b[0m\u001b[0;34m=\u001b[0m\u001b[0;32mFalse\u001b[0m\u001b[0;34m)\u001b[0m\u001b[0;34m\u001b[0m\u001b[0m\n\u001b[0m",
      "\u001b[0;32m<ipython-input-50-511915040cb9>\u001b[0m in \u001b[0;36mrun_k_runs\u001b[0;34m(g, q, infection_times, method, k, result_dir, verbose)\u001b[0m\n\u001b[1;32m      5\u001b[0m     \u001b[0;32mfor\u001b[0m \u001b[0mi\u001b[0m \u001b[0;32min\u001b[0m \u001b[0mrange\u001b[0m\u001b[0;34m(\u001b[0m\u001b[0mk\u001b[0m\u001b[0;34m)\u001b[0m\u001b[0;34m:\u001b[0m\u001b[0;34m\u001b[0m\u001b[0m\n\u001b[1;32m      6\u001b[0m         \u001b[0mobs\u001b[0m \u001b[0;34m=\u001b[0m \u001b[0mobserve_cascade\u001b[0m\u001b[0;34m(\u001b[0m\u001b[0minfection_times\u001b[0m\u001b[0;34m,\u001b[0m \u001b[0msource\u001b[0m\u001b[0;34m=\u001b[0m\u001b[0;32mNone\u001b[0m\u001b[0;34m,\u001b[0m \u001b[0mq\u001b[0m\u001b[0;34m=\u001b[0m\u001b[0mq\u001b[0m\u001b[0;34m)\u001b[0m\u001b[0;34m\u001b[0m\u001b[0m\n\u001b[0;32m----> 7\u001b[0;31m         \u001b[0mtree\u001b[0m \u001b[0;34m=\u001b[0m \u001b[0mget_tree\u001b[0m\u001b[0;34m(\u001b[0m\u001b[0mg\u001b[0m\u001b[0;34m,\u001b[0m \u001b[0minfection_times\u001b[0m\u001b[0;34m,\u001b[0m \u001b[0msource\u001b[0m\u001b[0;34m=\u001b[0m\u001b[0;32mNone\u001b[0m\u001b[0;34m,\u001b[0m \u001b[0mobs_nodes\u001b[0m\u001b[0;34m=\u001b[0m\u001b[0mobs\u001b[0m\u001b[0;34m,\u001b[0m \u001b[0mmethod\u001b[0m\u001b[0;34m=\u001b[0m\u001b[0mmethod\u001b[0m\u001b[0;34m,\u001b[0m \u001b[0mverbose\u001b[0m\u001b[0;34m=\u001b[0m\u001b[0mverbose\u001b[0m\u001b[0;34m)\u001b[0m\u001b[0;34m\u001b[0m\u001b[0m\n\u001b[0m\u001b[1;32m      8\u001b[0m \u001b[0;34m\u001b[0m\u001b[0m\n\u001b[1;32m      9\u001b[0m         \u001b[0mpred_edges\u001b[0m \u001b[0;34m=\u001b[0m \u001b[0mextract_edges\u001b[0m\u001b[0;34m(\u001b[0m\u001b[0mtree\u001b[0m\u001b[0;34m)\u001b[0m\u001b[0;34m\u001b[0m\u001b[0m\n",
      "\u001b[0;32m~/code/order-steiner-tree/paper_experiment.py\u001b[0m in \u001b[0;36mget_tree\u001b[0;34m(g, infection_times, source, obs_nodes, method, verbose, debug)\u001b[0m\n\u001b[1;32m     22\u001b[0m         tree = find_tree_by_closure(g, root, infection_times, obs_nodes, debug=debug,\n\u001b[1;32m     23\u001b[0m                                     \u001b[0mstrictly_smaller\u001b[0m\u001b[0;34m=\u001b[0m\u001b[0;32mFalse\u001b[0m\u001b[0;34m,\u001b[0m\u001b[0;34m\u001b[0m\u001b[0m\n\u001b[0;32m---> 24\u001b[0;31m                                     verbose=verbose)\n\u001b[0m\u001b[1;32m     25\u001b[0m     \u001b[0;32melif\u001b[0m \u001b[0mmethod\u001b[0m \u001b[0;34m==\u001b[0m \u001b[0;34m'greedy'\u001b[0m\u001b[0;34m:\u001b[0m\u001b[0;34m\u001b[0m\u001b[0m\n\u001b[1;32m     26\u001b[0m         tree = find_tree_greedy(g, root, infection_times, source, obs_nodes,\n",
      "\u001b[0;32m~/code/order-steiner-tree/core.py\u001b[0m in \u001b[0;36mfind_tree_by_closure\u001b[0;34m(g, root, infection_times, terminals, closure_builder, strictly_smaller, return_closure, k, debug, verbose)\u001b[0m\n\u001b[1;32m    127\u001b[0m                                           \u001b[0mk\u001b[0m\u001b[0;34m=\u001b[0m\u001b[0mk\u001b[0m\u001b[0;34m,\u001b[0m\u001b[0;34m\u001b[0m\u001b[0m\n\u001b[1;32m    128\u001b[0m                                           \u001b[0mdebug\u001b[0m\u001b[0;34m=\u001b[0m\u001b[0mdebug\u001b[0m\u001b[0;34m,\u001b[0m\u001b[0;34m\u001b[0m\u001b[0m\n\u001b[0;32m--> 129\u001b[0;31m                                           verbose=verbose)\n\u001b[0m\u001b[1;32m    130\u001b[0m \u001b[0;34m\u001b[0m\u001b[0m\n\u001b[1;32m    131\u001b[0m     \u001b[0;31m# get the minimum spanning arborescence\u001b[0m\u001b[0;34m\u001b[0m\u001b[0;34m\u001b[0m\u001b[0m\n",
      "\u001b[0;32m~/code/order-steiner-tree/core.py\u001b[0m in \u001b[0;36mbuild_closure_with_order\u001b[0;34m(g, cand_source, terminals, infection_times, k, strictly_smaller, debug, verbose)\u001b[0m\n\u001b[1;32m     84\u001b[0m         cpbfs_search(g, source=root, visitor=vis, terminals=list(late_terminals),\n\u001b[1;32m     85\u001b[0m                      \u001b[0mforbidden_nodes\u001b[0m\u001b[0;34m=\u001b[0m\u001b[0mlist\u001b[0m\u001b[0;34m(\u001b[0m\u001b[0mset\u001b[0m\u001b[0;34m(\u001b[0m\u001b[0mterminals\u001b[0m\u001b[0;34m)\u001b[0m \u001b[0;34m-\u001b[0m \u001b[0mset\u001b[0m\u001b[0;34m(\u001b[0m\u001b[0mlate_terminals\u001b[0m\u001b[0;34m)\u001b[0m\u001b[0;34m)\u001b[0m\u001b[0;34m,\u001b[0m\u001b[0;34m\u001b[0m\u001b[0m\n\u001b[0;32m---> 86\u001b[0;31m                      count_threshold=k)\n\u001b[0m\u001b[1;32m     87\u001b[0m         \u001b[0mr2pred\u001b[0m\u001b[0;34m[\u001b[0m\u001b[0mroot\u001b[0m\u001b[0;34m]\u001b[0m \u001b[0;34m=\u001b[0m \u001b[0mvis\u001b[0m\u001b[0;34m.\u001b[0m\u001b[0mpred\u001b[0m\u001b[0;34m\u001b[0m\u001b[0m\n\u001b[1;32m     88\u001b[0m         \u001b[0;32mfor\u001b[0m \u001b[0mu\u001b[0m\u001b[0;34m,\u001b[0m \u001b[0mv\u001b[0m\u001b[0;34m,\u001b[0m \u001b[0mc\u001b[0m \u001b[0;32min\u001b[0m \u001b[0mget_edges\u001b[0m\u001b[0;34m(\u001b[0m\u001b[0mvis\u001b[0m\u001b[0;34m.\u001b[0m\u001b[0mdist\u001b[0m\u001b[0;34m,\u001b[0m \u001b[0mroot\u001b[0m\u001b[0;34m,\u001b[0m \u001b[0mlate_terminals\u001b[0m\u001b[0;34m)\u001b[0m\u001b[0;34m:\u001b[0m\u001b[0;34m\u001b[0m\u001b[0m\n",
      "\u001b[0;32m/usr/lib/python3/dist-packages/graph_tool/search/__init__.py\u001b[0m in \u001b[0;36mcpbfs_search\u001b[0;34m(g, source, visitor, terminals, forbidden_nodes, count_threshold)\u001b[0m\n\u001b[1;32m   2050\u001b[0m                                           \u001b[0mterminals\u001b[0m\u001b[0;34m,\u001b[0m\u001b[0;34m\u001b[0m\u001b[0m\n\u001b[1;32m   2051\u001b[0m                                           \u001b[0mforbidden_nodes\u001b[0m\u001b[0;34m,\u001b[0m\u001b[0;34m\u001b[0m\u001b[0m\n\u001b[0;32m-> 2052\u001b[0;31m                                           count_threshold)\n\u001b[0m\u001b[1;32m   2053\u001b[0m     \u001b[0;32mexcept\u001b[0m \u001b[0mStopSearch\u001b[0m\u001b[0;34m:\u001b[0m\u001b[0;34m\u001b[0m\u001b[0m\n\u001b[1;32m   2054\u001b[0m         \u001b[0;32mpass\u001b[0m\u001b[0;34m\u001b[0m\u001b[0m\n",
      "\u001b[0;32m~/code/order-steiner-tree/utils.py\u001b[0m in \u001b[0;36mtree_edge\u001b[0;34m(self, e)\u001b[0m\n\u001b[1;32m     68\u001b[0m \u001b[0;34m\u001b[0m\u001b[0m\n\u001b[1;32m     69\u001b[0m     \u001b[0;31m# @profile\u001b[0m\u001b[0;34m\u001b[0m\u001b[0;34m\u001b[0m\u001b[0m\n\u001b[0;32m---> 70\u001b[0;31m     \u001b[0;32mdef\u001b[0m \u001b[0mtree_edge\u001b[0m\u001b[0;34m(\u001b[0m\u001b[0mself\u001b[0m\u001b[0;34m,\u001b[0m \u001b[0me\u001b[0m\u001b[0;34m)\u001b[0m\u001b[0;34m:\u001b[0m\u001b[0;34m\u001b[0m\u001b[0m\n\u001b[0m\u001b[1;32m     71\u001b[0m         \u001b[0ms\u001b[0m\u001b[0;34m,\u001b[0m \u001b[0mt\u001b[0m \u001b[0;34m=\u001b[0m \u001b[0me\u001b[0m\u001b[0;34m.\u001b[0m\u001b[0msource\u001b[0m\u001b[0;34m(\u001b[0m\u001b[0;34m)\u001b[0m\u001b[0;34m,\u001b[0m \u001b[0me\u001b[0m\u001b[0;34m.\u001b[0m\u001b[0mtarget\u001b[0m\u001b[0;34m(\u001b[0m\u001b[0;34m)\u001b[0m\u001b[0;34m\u001b[0m\u001b[0m\n\u001b[1;32m     72\u001b[0m         \u001b[0ms\u001b[0m\u001b[0;34m,\u001b[0m \u001b[0mt\u001b[0m \u001b[0;34m=\u001b[0m \u001b[0mint\u001b[0m\u001b[0;34m(\u001b[0m\u001b[0ms\u001b[0m\u001b[0;34m)\u001b[0m\u001b[0;34m,\u001b[0m \u001b[0mint\u001b[0m\u001b[0;34m(\u001b[0m\u001b[0mt\u001b[0m\u001b[0;34m)\u001b[0m\u001b[0;34m\u001b[0m\u001b[0m\n",
      "\u001b[0;31mKeyboardInterrupt\u001b[0m: "
     ]
    }
   ],
   "source": [
    "q=0.005\n",
    "k=10\n",
    "method = 'closure'\n",
    "result_dir = 'outputs/real_cascade'\n",
    "run_k_runs(g, q, infection_times, method, k, result_dir, verbose=False)"
   ]
  },
  {
   "cell_type": "code",
   "execution_count": 63,
   "metadata": {},
   "outputs": [
    {
     "name": "stderr",
     "output_type": "stream",
     "text": [
      "100%|██████████| 1/1 [00:00<00:00, 12.03it/s]"
     ]
    },
    {
     "name": "stdout",
     "output_type": "stream",
     "text": [
      "       n.prec      n.rec  order accuracy\n",
      "count    10.0  10.000000    1.000000e+01\n",
      "mean      1.0   0.009072    4.779412e-01\n",
      "std       0.0   0.000518    5.851389e-17\n",
      "min       1.0   0.008436    4.779412e-01\n",
      "25%       1.0   0.008696    4.779412e-01\n",
      "50%       1.0   0.008899    4.779412e-01\n",
      "75%       1.0   0.009476    4.779412e-01\n",
      "max       1.0   0.010054    4.779412e-01\n",
      "writing to outputs/real_cascade/test/.pkl\n"
     ]
    },
    {
     "name": "stderr",
     "output_type": "stream",
     "text": [
      "\n"
     ]
    }
   ],
   "source": [
    "for path, df in evaluate_from_result_dir('outputs/real_cascade/test', qs=[\"\"], infection_times=infection_times):\n",
    "    summary = df.describe()\n",
    "    print(summary)\n",
    "    print('writing to {}'.format(path))\n",
    "    summary.to_pickle(path)"
   ]
  }
 ],
 "metadata": {
  "kernelspec": {
   "display_name": "Python 3",
   "language": "python",
   "name": "python3"
  },
  "language_info": {
   "codemirror_mode": {
    "name": "ipython",
    "version": 3
   },
   "file_extension": ".py",
   "mimetype": "text/x-python",
   "name": "python",
   "nbconvert_exporter": "python",
   "pygments_lexer": "ipython3",
   "version": "3.5.2"
  }
 },
 "nbformat": 4,
 "nbformat_minor": 2
}
