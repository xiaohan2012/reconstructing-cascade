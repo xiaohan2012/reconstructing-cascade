{
 "cells": [
  {
   "cell_type": "code",
   "execution_count": 1,
   "metadata": {},
   "outputs": [],
   "source": [
    "import json\n",
    "import numpy as np\n",
    "import pickle as pkl\n",
    "import re\n",
    "import pandas as pd\n",
    "from datetime import datetime\n",
    "from graph_tool import Graph, GraphView\n",
    "from graph_tool.topology import label_largest_component\n",
    "from tqdm import tqdm\n",
    "from gt_utils import extract_nodes, extract_edges"
   ]
  },
  {
   "cell_type": "code",
   "execution_count": 2,
   "metadata": {},
   "outputs": [],
   "source": [
    "path = 'data/digg/graph.csv'"
   ]
  },
  {
   "cell_type": "code",
   "execution_count": 3,
   "metadata": {},
   "outputs": [],
   "source": [
    "df = pd.read_csv(path, header=None, names=['mutual', 'date', 'src', 'tar'])"
   ]
  },
  {
   "cell_type": "code",
   "execution_count": 4,
   "metadata": {},
   "outputs": [],
   "source": [
    "all_nodes = (set(df['src'].unique()) | set(df['tar'].unique()))"
   ]
  },
  {
   "cell_type": "code",
   "execution_count": 23,
   "metadata": {},
   "outputs": [
    {
     "name": "stdout",
     "output_type": "stream",
     "text": [
      "the node ids are not consecutive\n"
     ]
    },
    {
     "data": {
      "text/plain": [
       "(279631, 336225)"
      ]
     },
     "execution_count": 23,
     "metadata": {},
     "output_type": "execute_result"
    }
   ],
   "source": [
    "print('the node ids are not consecutive')\n",
    "len(all_nodes), max(all_nodes)"
   ]
  },
  {
   "cell_type": "code",
   "execution_count": 5,
   "metadata": {},
   "outputs": [],
   "source": [
    "node_index = {n: i for i, n in enumerate(all_nodes)}"
   ]
  },
  {
   "cell_type": "code",
   "execution_count": 6,
   "metadata": {},
   "outputs": [
    {
     "name": "stderr",
     "output_type": "stream",
     "text": [
      "100%|██████████| 1731658/1731658 [00:14<00:00, 123024.59it/s]\n"
     ]
    }
   ],
   "source": [
    "g = Graph(directed=False)\n",
    "g.add_vertex(len(node_index))\n",
    "edges = set()\n",
    "for r in tqdm(df.as_matrix(), total=df.shape[0]):\n",
    "    mutual, _, s, t = r\n",
    "    s, t = node_index[s], node_index[t]\n",
    "    edges.add(tuple(sorted((s, t))))"
   ]
  },
  {
   "cell_type": "code",
   "execution_count": 7,
   "metadata": {},
   "outputs": [],
   "source": [
    "g.add_edge_list(edges)"
   ]
  },
  {
   "cell_type": "code",
   "execution_count": 8,
   "metadata": {},
   "outputs": [],
   "source": [
    "g.save('data/digg/graph.gt')"
   ]
  },
  {
   "cell_type": "code",
   "execution_count": 9,
   "metadata": {},
   "outputs": [],
   "source": [
    "path = 'data/digg/votes.csv'\n",
    "df = pd.read_csv(path, header=None, names=['date', 'voter', 'story'])"
   ]
  },
  {
   "cell_type": "code",
   "execution_count": 10,
   "metadata": {},
   "outputs": [],
   "source": [
    "cascades = df.groupby('story')"
   ]
  },
  {
   "cell_type": "code",
   "execution_count": 11,
   "metadata": {},
   "outputs": [],
   "source": [
    "cnts = cascades.count()"
   ]
  },
  {
   "cell_type": "code",
   "execution_count": 25,
   "metadata": {},
   "outputs": [],
   "source": [
    "sorted_story = cnts.sort_values(by='voter', ascending=False)"
   ]
  },
  {
   "cell_type": "code",
   "execution_count": 26,
   "metadata": {},
   "outputs": [
    {
     "data": {
      "text/html": [
       "<div>\n",
       "<table border=\"1\" class=\"dataframe\">\n",
       "  <thead>\n",
       "    <tr style=\"text-align: right;\">\n",
       "      <th></th>\n",
       "      <th>date</th>\n",
       "      <th>voter</th>\n",
       "    </tr>\n",
       "    <tr>\n",
       "      <th>story</th>\n",
       "      <th></th>\n",
       "      <th></th>\n",
       "    </tr>\n",
       "  </thead>\n",
       "  <tbody>\n",
       "    <tr>\n",
       "      <th>714</th>\n",
       "      <td>24099</td>\n",
       "      <td>24099</td>\n",
       "    </tr>\n",
       "    <tr>\n",
       "      <th>1123</th>\n",
       "      <td>8521</td>\n",
       "      <td>8521</td>\n",
       "    </tr>\n",
       "    <tr>\n",
       "      <th>502</th>\n",
       "      <td>8492</td>\n",
       "      <td>8492</td>\n",
       "    </tr>\n",
       "    <tr>\n",
       "      <th>2719</th>\n",
       "      <td>8057</td>\n",
       "      <td>8057</td>\n",
       "    </tr>\n",
       "    <tr>\n",
       "      <th>2050</th>\n",
       "      <td>7825</td>\n",
       "      <td>7825</td>\n",
       "    </tr>\n",
       "  </tbody>\n",
       "</table>\n",
       "</div>"
      ],
      "text/plain": [
       "        date  voter\n",
       "story              \n",
       "714    24099  24099\n",
       "1123    8521   8521\n",
       "502     8492   8492\n",
       "2719    8057   8057\n",
       "2050    7825   7825"
      ]
     },
     "execution_count": 26,
     "metadata": {},
     "output_type": "execute_result"
    }
   ],
   "source": [
    "sorted_story.head(5)"
   ]
  },
  {
   "cell_type": "code",
   "execution_count": 36,
   "metadata": {},
   "outputs": [],
   "source": [
    "def get_connected_infected_nodes(cascades, idx):\n",
    "    c = cascades.get_group(idx)\n",
    "    c['date'] -= c['date'].min()\n",
    "    c['voter'] = c['voter'].map(lambda k: int(node_index.get(k, -1)))  # some voter is not in the graph, strange\n",
    "    c = c[c['voter'] >= 0]  # filter them out    \n",
    "    \n",
    "    voter2time = dict(zip(c['voter'].as_matrix(), c['date'].as_matrix()))\n",
    "    infected_nodes = c['voter'].as_matrix()\n",
    "    \n",
    "    # extract the most voted story subgraph\n",
    "    # all nodes in this subgraph voted the story\n",
    "    vfilt = g.new_vertex_property('bool')\n",
    "    vfilt.a = False\n",
    "    for i in infected_nodes:\n",
    "        vfilt[i] = True\n",
    "    gv = GraphView(g, vfilt=vfilt, directed=False)        \n",
    "    \n",
    "    # get the connected component\n",
    "    cc_label = label_largest_component(gv)\n",
    "    infected_nodes_connected = np.nonzero(cc_label.a)[0]\n",
    "    \n",
    "    # print('cascade size', sum(cc_label.a))\n",
    "    \n",
    "    infection_times = np.ones(g.num_vertices()) * -1\n",
    "    \n",
    "    for i in infected_nodes_connected:\n",
    "        infection_times[i] = voter2time[i]    \n",
    "        \n",
    "    return infection_times"
   ]
  },
  {
   "cell_type": "code",
   "execution_count": 39,
   "metadata": {},
   "outputs": [],
   "source": [
    "indices = sorted_story.index[:50]"
   ]
  },
  {
   "cell_type": "code",
   "execution_count": 41,
   "metadata": {},
   "outputs": [
    {
     "name": "stderr",
     "output_type": "stream",
     "text": [
      "  0%|          | 0/50 [00:00<?, ?it/s]/usr/local/lib/python3.5/dist-packages/ipykernel_launcher.py:3: SettingWithCopyWarning: \n",
      "A value is trying to be set on a copy of a slice from a DataFrame.\n",
      "Try using .loc[row_indexer,col_indexer] = value instead\n",
      "\n",
      "See the caveats in the documentation: http://pandas.pydata.org/pandas-docs/stable/indexing.html#indexing-view-versus-copy\n",
      "  This is separate from the ipykernel package so we can avoid doing imports until\n",
      "/usr/local/lib/python3.5/dist-packages/ipykernel_launcher.py:4: SettingWithCopyWarning: \n",
      "A value is trying to be set on a copy of a slice from a DataFrame.\n",
      "Try using .loc[row_indexer,col_indexer] = value instead\n",
      "\n",
      "See the caveats in the documentation: http://pandas.pydata.org/pandas-docs/stable/indexing.html#indexing-view-versus-copy\n",
      "  after removing the cwd from sys.path.\n",
      "100%|██████████| 50/50 [01:15<00:00,  1.36s/it]\n"
     ]
    }
   ],
   "source": [
    "infection_times_list = [get_connected_infected_nodes(cascades, idx) for idx in tqdm(indices)]"
   ]
  },
  {
   "cell_type": "code",
   "execution_count": 42,
   "metadata": {},
   "outputs": [
    {
     "data": {
      "text/plain": [
       "[8653,\n",
       " 2660,\n",
       " 1946,\n",
       " 1624,\n",
       " 1849,\n",
       " 1748,\n",
       " 1628,\n",
       " 1844,\n",
       " 1387,\n",
       " 1787,\n",
       " 2202,\n",
       " 2627,\n",
       " 2141,\n",
       " 1407,\n",
       " 1454,\n",
       " 2071,\n",
       " 1188,\n",
       " 2030,\n",
       " 1471,\n",
       " 1083,\n",
       " 1165,\n",
       " 1109,\n",
       " 1129,\n",
       " 1268,\n",
       " 1358,\n",
       " 1393,\n",
       " 1414,\n",
       " 1381,\n",
       " 1163,\n",
       " 1209,\n",
       " 1314,\n",
       " 961,\n",
       " 1780,\n",
       " 1067,\n",
       " 1772,\n",
       " 1212,\n",
       " 1819,\n",
       " 1219,\n",
       " 1416,\n",
       " 1322,\n",
       " 909,\n",
       " 1084,\n",
       " 873,\n",
       " 1060,\n",
       " 893,\n",
       " 1179,\n",
       " 1077,\n",
       " 929,\n",
       " 989,\n",
       " 1004]"
      ]
     },
     "execution_count": 42,
     "metadata": {},
     "output_type": "execute_result"
    }
   ],
   "source": [
    "list(map(lambda l: len((l>=0).nonzero()[0]), infection_times_list))"
   ]
  },
  {
   "cell_type": "code",
   "execution_count": 173,
   "metadata": {},
   "outputs": [
    {
     "data": {
      "text/plain": [
       "True"
      ]
     },
     "execution_count": 173,
     "metadata": {},
     "output_type": "execute_result"
    }
   ],
   "source": [
    "set((infection_times >= 0).nonzero()[0]) == set(infected_nodes_connected)"
   ]
  },
  {
   "cell_type": "code",
   "execution_count": 45,
   "metadata": {},
   "outputs": [],
   "source": [
    "for i, infection_times in enumerate(infection_times_list[1:11]):\n",
    "    with open('data/digg/cascade_{}.pkl'.format(i), 'wb') as f:\n",
    "        pkl.dump(infection_times, f)"
   ]
  }
 ],
 "metadata": {
  "kernelspec": {
   "display_name": "Python 3",
   "language": "python",
   "name": "python3"
  },
  "language_info": {
   "codemirror_mode": {
    "name": "ipython",
    "version": 3
   },
   "file_extension": ".py",
   "mimetype": "text/x-python",
   "name": "python",
   "nbconvert_exporter": "python",
   "pygments_lexer": "ipython3",
   "version": "3.5.2"
  }
 },
 "nbformat": 4,
 "nbformat_minor": 2
}
