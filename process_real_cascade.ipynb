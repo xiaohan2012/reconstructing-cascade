{
 "cells": [
  {
   "cell_type": "code",
   "execution_count": 1,
   "metadata": {},
   "outputs": [],
   "source": [
    "import json\n",
    "import numpy as np\n",
    "import pickle as pkl\n",
    "import re\n",
    "import pandas as pd\n",
    "from datetime import datetime\n",
    "from graph_tool import Graph, GraphView\n",
    "from graph_tool.topology import label_largest_component\n",
    "from tqdm import tqdm\n",
    "from gt_utils import extract_nodes, extract_edges"
   ]
  },
  {
   "cell_type": "code",
   "execution_count": 2,
   "metadata": {},
   "outputs": [],
   "source": [
    "path = 'data/digg/graph.csv'"
   ]
  },
  {
   "cell_type": "code",
   "execution_count": 3,
   "metadata": {},
   "outputs": [],
   "source": [
    "df = pd.read_csv(path, header=None, names=['mutual', 'date', 'src', 'tar'])"
   ]
  },
  {
   "cell_type": "code",
   "execution_count": 4,
   "metadata": {},
   "outputs": [],
   "source": [
    "all_nodes = (set(df['src'].unique()) | set(df['tar'].unique()))"
   ]
  },
  {
   "cell_type": "code",
   "execution_count": 5,
   "metadata": {},
   "outputs": [
    {
     "name": "stdout",
     "output_type": "stream",
     "text": [
      "the node ids are not consecutive\n"
     ]
    },
    {
     "data": {
      "text/plain": [
       "(279631, 336225)"
      ]
     },
     "execution_count": 5,
     "metadata": {},
     "output_type": "execute_result"
    }
   ],
   "source": [
    "print('the node ids are not consecutive')\n",
    "len(all_nodes), max(all_nodes)"
   ]
  },
  {
   "cell_type": "code",
   "execution_count": 6,
   "metadata": {},
   "outputs": [],
   "source": [
    "node_index = {n: i for i, n in enumerate(all_nodes)}"
   ]
  },
  {
   "cell_type": "code",
   "execution_count": 7,
   "metadata": {
    "scrolled": true
   },
   "outputs": [
    {
     "name": "stderr",
     "output_type": "stream",
     "text": [
      "100%|██████████| 1731658/1731658 [00:09<00:00, 176539.24it/s]\n"
     ]
    }
   ],
   "source": [
    "g = Graph(directed=False)\n",
    "g.add_vertex(len(node_index))\n",
    "edges = set()\n",
    "for r in tqdm(df.as_matrix(), total=df.shape[0]):\n",
    "    mutual, _, s, t = r\n",
    "    s, t = node_index[s], node_index[t]\n",
    "    edges.add(tuple(sorted((s, t))))"
   ]
  },
  {
   "cell_type": "code",
   "execution_count": 8,
   "metadata": {},
   "outputs": [],
   "source": [
    "g.add_edge_list(edges)"
   ]
  },
  {
   "cell_type": "code",
   "execution_count": 9,
   "metadata": {},
   "outputs": [],
   "source": [
    "g.save('data/digg/graph.gt')"
   ]
  },
  {
   "cell_type": "code",
   "execution_count": 10,
   "metadata": {},
   "outputs": [],
   "source": [
    "path = 'data/digg/votes.csv'\n",
    "df = pd.read_csv(path, header=None, names=['date', 'voter', 'story'])"
   ]
  },
  {
   "cell_type": "code",
   "execution_count": 11,
   "metadata": {},
   "outputs": [],
   "source": [
    "cascades = df.groupby('story')"
   ]
  },
  {
   "cell_type": "code",
   "execution_count": 12,
   "metadata": {},
   "outputs": [],
   "source": [
    "cnts = cascades.count()"
   ]
  },
  {
   "cell_type": "code",
   "execution_count": 13,
   "metadata": {},
   "outputs": [],
   "source": [
    "sorted_story = cnts.sort_values(by='voter', ascending=False)"
   ]
  },
  {
   "cell_type": "code",
   "execution_count": 14,
   "metadata": {},
   "outputs": [
    {
     "data": {
      "text/html": [
       "<div>\n",
       "<table border=\"1\" class=\"dataframe\">\n",
       "  <thead>\n",
       "    <tr style=\"text-align: right;\">\n",
       "      <th></th>\n",
       "      <th>date</th>\n",
       "      <th>voter</th>\n",
       "    </tr>\n",
       "    <tr>\n",
       "      <th>story</th>\n",
       "      <th></th>\n",
       "      <th></th>\n",
       "    </tr>\n",
       "  </thead>\n",
       "  <tbody>\n",
       "    <tr>\n",
       "      <th>714</th>\n",
       "      <td>24099</td>\n",
       "      <td>24099</td>\n",
       "    </tr>\n",
       "    <tr>\n",
       "      <th>1123</th>\n",
       "      <td>8521</td>\n",
       "      <td>8521</td>\n",
       "    </tr>\n",
       "    <tr>\n",
       "      <th>502</th>\n",
       "      <td>8492</td>\n",
       "      <td>8492</td>\n",
       "    </tr>\n",
       "    <tr>\n",
       "      <th>2719</th>\n",
       "      <td>8057</td>\n",
       "      <td>8057</td>\n",
       "    </tr>\n",
       "    <tr>\n",
       "      <th>2050</th>\n",
       "      <td>7825</td>\n",
       "      <td>7825</td>\n",
       "    </tr>\n",
       "  </tbody>\n",
       "</table>\n",
       "</div>"
      ],
      "text/plain": [
       "        date  voter\n",
       "story              \n",
       "714    24099  24099\n",
       "1123    8521   8521\n",
       "502     8492   8492\n",
       "2719    8057   8057\n",
       "2050    7825   7825"
      ]
     },
     "execution_count": 14,
     "metadata": {},
     "output_type": "execute_result"
    }
   ],
   "source": [
    "sorted_story.head(5)"
   ]
  },
  {
   "cell_type": "code",
   "execution_count": 15,
   "metadata": {},
   "outputs": [
    {
     "data": {
      "text/html": [
       "<div>\n",
       "<table border=\"1\" class=\"dataframe\">\n",
       "  <thead>\n",
       "    <tr style=\"text-align: right;\">\n",
       "      <th></th>\n",
       "      <th>date</th>\n",
       "      <th>voter</th>\n",
       "    </tr>\n",
       "    <tr>\n",
       "      <th>story</th>\n",
       "      <th></th>\n",
       "      <th></th>\n",
       "    </tr>\n",
       "  </thead>\n",
       "  <tbody>\n",
       "    <tr>\n",
       "      <th>2104</th>\n",
       "      <td>162</td>\n",
       "      <td>162</td>\n",
       "    </tr>\n",
       "    <tr>\n",
       "      <th>2919</th>\n",
       "      <td>158</td>\n",
       "      <td>158</td>\n",
       "    </tr>\n",
       "    <tr>\n",
       "      <th>797</th>\n",
       "      <td>158</td>\n",
       "      <td>158</td>\n",
       "    </tr>\n",
       "    <tr>\n",
       "      <th>60</th>\n",
       "      <td>158</td>\n",
       "      <td>158</td>\n",
       "    </tr>\n",
       "    <tr>\n",
       "      <th>2976</th>\n",
       "      <td>122</td>\n",
       "      <td>122</td>\n",
       "    </tr>\n",
       "  </tbody>\n",
       "</table>\n",
       "</div>"
      ],
      "text/plain": [
       "       date  voter\n",
       "story             \n",
       "2104    162    162\n",
       "2919    158    158\n",
       "797     158    158\n",
       "60      158    158\n",
       "2976    122    122"
      ]
     },
     "execution_count": 15,
     "metadata": {},
     "output_type": "execute_result"
    }
   ],
   "source": [
    "sorted_story.tail(5)"
   ]
  },
  {
   "cell_type": "code",
   "execution_count": 16,
   "metadata": {},
   "outputs": [],
   "source": [
    "def get_connected_infected_nodes(cascades, idx):\n",
    "    c = cascades.get_group(idx)\n",
    "    c['date'] -= c['date'].min()\n",
    "    c['voter'] = c['voter'].map(lambda k: int(node_index.get(k, -1)))  # some voter is not in the graph, strange\n",
    "    c = c[c['voter'] >= 0]  # filter them out    \n",
    "    \n",
    "    voter2time = dict(zip(c['voter'].as_matrix(), c['date'].as_matrix()))\n",
    "    infected_nodes = c['voter'].as_matrix()\n",
    "    \n",
    "    # extract the most voted story subgraph\n",
    "    # all nodes in this subgraph voted the story\n",
    "    vfilt = g.new_vertex_property('bool')\n",
    "    vfilt.a = False\n",
    "    for i in infected_nodes:\n",
    "        vfilt[i] = True\n",
    "    gv = GraphView(g, vfilt=vfilt, directed=False)        \n",
    "    \n",
    "    # get the connected component\n",
    "    cc_label = label_largest_component(gv)\n",
    "    infected_nodes_connected = np.nonzero(cc_label.a)[0]\n",
    "    \n",
    "    # print('cascade size', sum(cc_label.a))\n",
    "    \n",
    "    infection_times = np.ones(g.num_vertices()) * -1\n",
    "    \n",
    "    for i in infected_nodes_connected:\n",
    "        infection_times[i] = voter2time[i]    \n",
    "        \n",
    "    return infection_times"
   ]
  },
  {
   "cell_type": "code",
   "execution_count": 17,
   "metadata": {},
   "outputs": [],
   "source": [
    "indices = sorted_story.index[:50]"
   ]
  },
  {
   "cell_type": "code",
   "execution_count": 18,
   "metadata": {},
   "outputs": [
    {
     "name": "stderr",
     "output_type": "stream",
     "text": [
      "  0%|          | 0/50 [00:00<?, ?it/s]/usr/local/lib/python3.5/dist-packages/ipykernel_launcher.py:3: SettingWithCopyWarning: \n",
      "A value is trying to be set on a copy of a slice from a DataFrame.\n",
      "Try using .loc[row_indexer,col_indexer] = value instead\n",
      "\n",
      "See the caveats in the documentation: http://pandas.pydata.org/pandas-docs/stable/indexing.html#indexing-view-versus-copy\n",
      "  This is separate from the ipykernel package so we can avoid doing imports until\n",
      "/usr/local/lib/python3.5/dist-packages/ipykernel_launcher.py:4: SettingWithCopyWarning: \n",
      "A value is trying to be set on a copy of a slice from a DataFrame.\n",
      "Try using .loc[row_indexer,col_indexer] = value instead\n",
      "\n",
      "See the caveats in the documentation: http://pandas.pydata.org/pandas-docs/stable/indexing.html#indexing-view-versus-copy\n",
      "  after removing the cwd from sys.path.\n",
      "100%|██████████| 50/50 [00:57<00:00,  1.00it/s]\n"
     ]
    }
   ],
   "source": [
    "infection_times_list = [get_connected_infected_nodes(cascades, idx) for idx in tqdm(indices)]"
   ]
  },
  {
   "cell_type": "code",
   "execution_count": 22,
   "metadata": {},
   "outputs": [],
   "source": [
    "def cascade_size(l):\n",
    "    return len((l>=0).nonzero()[0])"
   ]
  },
  {
   "cell_type": "code",
   "execution_count": 23,
   "metadata": {
    "scrolled": true
   },
   "outputs": [
    {
     "data": {
      "text/plain": [
       "[8653,\n",
       " 2660,\n",
       " 1946,\n",
       " 1624,\n",
       " 1849,\n",
       " 1748,\n",
       " 1628,\n",
       " 1844,\n",
       " 1387,\n",
       " 1787,\n",
       " 2202,\n",
       " 2627,\n",
       " 2141,\n",
       " 1407,\n",
       " 1454,\n",
       " 2071,\n",
       " 1188,\n",
       " 2030,\n",
       " 1471,\n",
       " 1083,\n",
       " 1165,\n",
       " 1109,\n",
       " 1129,\n",
       " 1268,\n",
       " 1358,\n",
       " 1393,\n",
       " 1414,\n",
       " 1381,\n",
       " 1163,\n",
       " 1209,\n",
       " 1314,\n",
       " 961,\n",
       " 1780,\n",
       " 1067,\n",
       " 1772,\n",
       " 1212,\n",
       " 1819,\n",
       " 1219,\n",
       " 1416,\n",
       " 1322,\n",
       " 909,\n",
       " 1084,\n",
       " 873,\n",
       " 1060,\n",
       " 893,\n",
       " 1179,\n",
       " 1077,\n",
       " 929,\n",
       " 989,\n",
       " 1004]"
      ]
     },
     "execution_count": 23,
     "metadata": {},
     "output_type": "execute_result"
    }
   ],
   "source": [
    "list(map(cascade_size, infection_times_list))"
   ]
  },
  {
   "cell_type": "code",
   "execution_count": 24,
   "metadata": {},
   "outputs": [],
   "source": [
    "for i, infection_times in enumerate(infection_times_list[1:20]):\n",
    "    with open('data/digg/cascade_{}.pkl'.format(i), 'wb') as f:\n",
    "        pkl.dump(infection_times, f)"
   ]
  },
  {
   "cell_type": "code",
   "execution_count": 25,
   "metadata": {
    "scrolled": true
   },
   "outputs": [
    {
     "name": "stderr",
     "output_type": "stream",
     "text": [
      "  0%|          | 0/50 [00:00<?, ?it/s]/usr/local/lib/python3.5/dist-packages/ipykernel_launcher.py:3: SettingWithCopyWarning: \n",
      "A value is trying to be set on a copy of a slice from a DataFrame.\n",
      "Try using .loc[row_indexer,col_indexer] = value instead\n",
      "\n",
      "See the caveats in the documentation: http://pandas.pydata.org/pandas-docs/stable/indexing.html#indexing-view-versus-copy\n",
      "  This is separate from the ipykernel package so we can avoid doing imports until\n",
      "/usr/local/lib/python3.5/dist-packages/ipykernel_launcher.py:4: SettingWithCopyWarning: \n",
      "A value is trying to be set on a copy of a slice from a DataFrame.\n",
      "Try using .loc[row_indexer,col_indexer] = value instead\n",
      "\n",
      "See the caveats in the documentation: http://pandas.pydata.org/pandas-docs/stable/indexing.html#indexing-view-versus-copy\n",
      "  after removing the cwd from sys.path.\n",
      "100%|██████████| 50/50 [00:30<00:00,  2.04it/s]\n"
     ]
    }
   ],
   "source": [
    "# FOR SMALL CASCADE\n",
    "idx2cascade_small = {idx: get_connected_infected_nodes(cascades, idx) for idx in tqdm(sorted_story.tail(50).index)}"
   ]
  },
  {
   "cell_type": "code",
   "execution_count": 26,
   "metadata": {
    "scrolled": true
   },
   "outputs": [
    {
     "data": {
      "text/html": [
       "<div>\n",
       "<table border=\"1\" class=\"dataframe\">\n",
       "  <thead>\n",
       "    <tr style=\"text-align: right;\">\n",
       "      <th></th>\n",
       "      <th>date</th>\n",
       "      <th>voter</th>\n",
       "    </tr>\n",
       "    <tr>\n",
       "      <th>story</th>\n",
       "      <th></th>\n",
       "      <th></th>\n",
       "    </tr>\n",
       "  </thead>\n",
       "  <tbody>\n",
       "    <tr>\n",
       "      <th>1883</th>\n",
       "      <td>209</td>\n",
       "      <td>209</td>\n",
       "    </tr>\n",
       "    <tr>\n",
       "      <th>2537</th>\n",
       "      <td>209</td>\n",
       "      <td>209</td>\n",
       "    </tr>\n",
       "    <tr>\n",
       "      <th>2229</th>\n",
       "      <td>208</td>\n",
       "      <td>208</td>\n",
       "    </tr>\n",
       "    <tr>\n",
       "      <th>3299</th>\n",
       "      <td>208</td>\n",
       "      <td>208</td>\n",
       "    </tr>\n",
       "    <tr>\n",
       "      <th>3212</th>\n",
       "      <td>208</td>\n",
       "      <td>208</td>\n",
       "    </tr>\n",
       "    <tr>\n",
       "      <th>1376</th>\n",
       "      <td>207</td>\n",
       "      <td>207</td>\n",
       "    </tr>\n",
       "    <tr>\n",
       "      <th>227</th>\n",
       "      <td>206</td>\n",
       "      <td>206</td>\n",
       "    </tr>\n",
       "    <tr>\n",
       "      <th>3426</th>\n",
       "      <td>205</td>\n",
       "      <td>205</td>\n",
       "    </tr>\n",
       "    <tr>\n",
       "      <th>3342</th>\n",
       "      <td>205</td>\n",
       "      <td>205</td>\n",
       "    </tr>\n",
       "    <tr>\n",
       "      <th>909</th>\n",
       "      <td>205</td>\n",
       "      <td>205</td>\n",
       "    </tr>\n",
       "    <tr>\n",
       "      <th>1490</th>\n",
       "      <td>204</td>\n",
       "      <td>204</td>\n",
       "    </tr>\n",
       "    <tr>\n",
       "      <th>72</th>\n",
       "      <td>204</td>\n",
       "      <td>204</td>\n",
       "    </tr>\n",
       "    <tr>\n",
       "      <th>158</th>\n",
       "      <td>203</td>\n",
       "      <td>203</td>\n",
       "    </tr>\n",
       "    <tr>\n",
       "      <th>129</th>\n",
       "      <td>203</td>\n",
       "      <td>203</td>\n",
       "    </tr>\n",
       "    <tr>\n",
       "      <th>308</th>\n",
       "      <td>202</td>\n",
       "      <td>202</td>\n",
       "    </tr>\n",
       "    <tr>\n",
       "      <th>2897</th>\n",
       "      <td>201</td>\n",
       "      <td>201</td>\n",
       "    </tr>\n",
       "    <tr>\n",
       "      <th>1983</th>\n",
       "      <td>201</td>\n",
       "      <td>201</td>\n",
       "    </tr>\n",
       "    <tr>\n",
       "      <th>465</th>\n",
       "      <td>200</td>\n",
       "      <td>200</td>\n",
       "    </tr>\n",
       "    <tr>\n",
       "      <th>2536</th>\n",
       "      <td>200</td>\n",
       "      <td>200</td>\n",
       "    </tr>\n",
       "    <tr>\n",
       "      <th>1172</th>\n",
       "      <td>200</td>\n",
       "      <td>200</td>\n",
       "    </tr>\n",
       "    <tr>\n",
       "      <th>134</th>\n",
       "      <td>199</td>\n",
       "      <td>199</td>\n",
       "    </tr>\n",
       "    <tr>\n",
       "      <th>323</th>\n",
       "      <td>198</td>\n",
       "      <td>198</td>\n",
       "    </tr>\n",
       "    <tr>\n",
       "      <th>3510</th>\n",
       "      <td>197</td>\n",
       "      <td>197</td>\n",
       "    </tr>\n",
       "    <tr>\n",
       "      <th>1608</th>\n",
       "      <td>195</td>\n",
       "      <td>195</td>\n",
       "    </tr>\n",
       "    <tr>\n",
       "      <th>3544</th>\n",
       "      <td>195</td>\n",
       "      <td>195</td>\n",
       "    </tr>\n",
       "    <tr>\n",
       "      <th>23</th>\n",
       "      <td>195</td>\n",
       "      <td>195</td>\n",
       "    </tr>\n",
       "    <tr>\n",
       "      <th>1065</th>\n",
       "      <td>194</td>\n",
       "      <td>194</td>\n",
       "    </tr>\n",
       "    <tr>\n",
       "      <th>3287</th>\n",
       "      <td>192</td>\n",
       "      <td>192</td>\n",
       "    </tr>\n",
       "    <tr>\n",
       "      <th>2645</th>\n",
       "      <td>192</td>\n",
       "      <td>192</td>\n",
       "    </tr>\n",
       "    <tr>\n",
       "      <th>2591</th>\n",
       "      <td>190</td>\n",
       "      <td>190</td>\n",
       "    </tr>\n",
       "    <tr>\n",
       "      <th>1208</th>\n",
       "      <td>188</td>\n",
       "      <td>188</td>\n",
       "    </tr>\n",
       "    <tr>\n",
       "      <th>2387</th>\n",
       "      <td>187</td>\n",
       "      <td>187</td>\n",
       "    </tr>\n",
       "    <tr>\n",
       "      <th>2560</th>\n",
       "      <td>185</td>\n",
       "      <td>185</td>\n",
       "    </tr>\n",
       "    <tr>\n",
       "      <th>3285</th>\n",
       "      <td>182</td>\n",
       "      <td>182</td>\n",
       "    </tr>\n",
       "    <tr>\n",
       "      <th>3545</th>\n",
       "      <td>182</td>\n",
       "      <td>182</td>\n",
       "    </tr>\n",
       "    <tr>\n",
       "      <th>966</th>\n",
       "      <td>181</td>\n",
       "      <td>181</td>\n",
       "    </tr>\n",
       "    <tr>\n",
       "      <th>1680</th>\n",
       "      <td>180</td>\n",
       "      <td>180</td>\n",
       "    </tr>\n",
       "    <tr>\n",
       "      <th>3246</th>\n",
       "      <td>180</td>\n",
       "      <td>180</td>\n",
       "    </tr>\n",
       "    <tr>\n",
       "      <th>1798</th>\n",
       "      <td>179</td>\n",
       "      <td>179</td>\n",
       "    </tr>\n",
       "    <tr>\n",
       "      <th>2345</th>\n",
       "      <td>176</td>\n",
       "      <td>176</td>\n",
       "    </tr>\n",
       "    <tr>\n",
       "      <th>765</th>\n",
       "      <td>176</td>\n",
       "      <td>176</td>\n",
       "    </tr>\n",
       "    <tr>\n",
       "      <th>1588</th>\n",
       "      <td>174</td>\n",
       "      <td>174</td>\n",
       "    </tr>\n",
       "    <tr>\n",
       "      <th>184</th>\n",
       "      <td>169</td>\n",
       "      <td>169</td>\n",
       "    </tr>\n",
       "    <tr>\n",
       "      <th>1041</th>\n",
       "      <td>167</td>\n",
       "      <td>167</td>\n",
       "    </tr>\n",
       "    <tr>\n",
       "      <th>27</th>\n",
       "      <td>164</td>\n",
       "      <td>164</td>\n",
       "    </tr>\n",
       "    <tr>\n",
       "      <th>2104</th>\n",
       "      <td>162</td>\n",
       "      <td>162</td>\n",
       "    </tr>\n",
       "    <tr>\n",
       "      <th>2919</th>\n",
       "      <td>158</td>\n",
       "      <td>158</td>\n",
       "    </tr>\n",
       "    <tr>\n",
       "      <th>797</th>\n",
       "      <td>158</td>\n",
       "      <td>158</td>\n",
       "    </tr>\n",
       "    <tr>\n",
       "      <th>60</th>\n",
       "      <td>158</td>\n",
       "      <td>158</td>\n",
       "    </tr>\n",
       "    <tr>\n",
       "      <th>2976</th>\n",
       "      <td>122</td>\n",
       "      <td>122</td>\n",
       "    </tr>\n",
       "  </tbody>\n",
       "</table>\n",
       "</div>"
      ],
      "text/plain": [
       "       date  voter\n",
       "story             \n",
       "1883    209    209\n",
       "2537    209    209\n",
       "2229    208    208\n",
       "3299    208    208\n",
       "3212    208    208\n",
       "1376    207    207\n",
       "227     206    206\n",
       "3426    205    205\n",
       "3342    205    205\n",
       "909     205    205\n",
       "1490    204    204\n",
       "72      204    204\n",
       "158     203    203\n",
       "129     203    203\n",
       "308     202    202\n",
       "2897    201    201\n",
       "1983    201    201\n",
       "465     200    200\n",
       "2536    200    200\n",
       "1172    200    200\n",
       "134     199    199\n",
       "323     198    198\n",
       "3510    197    197\n",
       "1608    195    195\n",
       "3544    195    195\n",
       "23      195    195\n",
       "1065    194    194\n",
       "3287    192    192\n",
       "2645    192    192\n",
       "2591    190    190\n",
       "1208    188    188\n",
       "2387    187    187\n",
       "2560    185    185\n",
       "3285    182    182\n",
       "3545    182    182\n",
       "966     181    181\n",
       "1680    180    180\n",
       "3246    180    180\n",
       "1798    179    179\n",
       "2345    176    176\n",
       "765     176    176\n",
       "1588    174    174\n",
       "184     169    169\n",
       "1041    167    167\n",
       "27      164    164\n",
       "2104    162    162\n",
       "2919    158    158\n",
       "797     158    158\n",
       "60      158    158\n",
       "2976    122    122"
      ]
     },
     "execution_count": 26,
     "metadata": {},
     "output_type": "execute_result"
    }
   ],
   "source": [
    "sorted_story.tail(50)"
   ]
  },
  {
   "cell_type": "code",
   "execution_count": 27,
   "metadata": {
    "scrolled": true
   },
   "outputs": [
    {
     "data": {
      "text/plain": [
       "{23: 155,\n",
       " 27: 109,\n",
       " 60: 108,\n",
       " 72: 145,\n",
       " 129: 105,\n",
       " 134: 114,\n",
       " 158: 32,\n",
       " 184: 118,\n",
       " 227: 136,\n",
       " 308: 131,\n",
       " 323: 132,\n",
       " 465: 110,\n",
       " 765: 129,\n",
       " 797: 73,\n",
       " 909: 114,\n",
       " 966: 137,\n",
       " 1041: 88,\n",
       " 1065: 123,\n",
       " 1172: 112,\n",
       " 1208: 116,\n",
       " 1376: 116,\n",
       " 1490: 127,\n",
       " 1588: 96,\n",
       " 1608: 118,\n",
       " 1680: 122,\n",
       " 1798: 111,\n",
       " 1883: 135,\n",
       " 1983: 113,\n",
       " 2104: 69,\n",
       " 2229: 136,\n",
       " 2345: 104,\n",
       " 2387: 118,\n",
       " 2536: 108,\n",
       " 2537: 133,\n",
       " 2560: 72,\n",
       " 2591: 117,\n",
       " 2645: 150,\n",
       " 2897: 156,\n",
       " 2919: 103,\n",
       " 2976: 90,\n",
       " 3212: 162,\n",
       " 3246: 117,\n",
       " 3285: 144,\n",
       " 3287: 120,\n",
       " 3299: 132,\n",
       " 3342: 143,\n",
       " 3426: 108,\n",
       " 3510: 138,\n",
       " 3544: 86,\n",
       " 3545: 128}"
      ]
     },
     "execution_count": 27,
     "metadata": {},
     "output_type": "execute_result"
    }
   ],
   "source": [
    "dict(zip(idx2cascade_small.keys(), map(cascade_size, idx2cascade_small.values())))"
   ]
  },
  {
   "cell_type": "code",
   "execution_count": 42,
   "metadata": {},
   "outputs": [],
   "source": [
    "for i, infection_times in enumerate(idx2cascade_small.values()):\n",
    "    with open('data/digg/small_cascade_{}.pkl'.format(i), 'wb') as f:\n",
    "        pkl.dump(infection_times, f)"
   ]
  }
 ],
 "metadata": {
  "kernelspec": {
   "display_name": "Python 3",
   "language": "python",
   "name": "python3"
  },
  "language_info": {
   "codemirror_mode": {
    "name": "ipython",
    "version": 3
   },
   "file_extension": ".py",
   "mimetype": "text/x-python",
   "name": "python",
   "nbconvert_exporter": "python",
   "pygments_lexer": "ipython3",
   "version": "3.5.2"
  }
 },
 "nbformat": 4,
 "nbformat_minor": 2
}
